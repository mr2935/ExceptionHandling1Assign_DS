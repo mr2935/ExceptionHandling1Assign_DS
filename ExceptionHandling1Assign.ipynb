{
 "cells": [
  {
   "cell_type": "markdown",
   "id": "d9127635-611d-43c3-93db-958e49cebe37",
   "metadata": {},
   "source": [
    "#QUESTION 1\n",
    "Exceptions:\n",
    "\n",
    "Exceptions occur during the execution of a program when an error or an exceptional condition is encountered.\n",
    "Exceptions are handled using try-except blocks, allowing the program to gracefully handle errors and continue execution.\n",
    "Examples of exceptions include TypeError, ValueError, ZeroDivisionError, FileNotFoundError, and IndexError.\n",
    "Exceptions can be raised explicitly using the raise statement or can be raised implicitly by Python itself or external libraries when an error condition is detected.\n",
    "\n",
    "Syntax Errors:\n",
    "\n",
    "Syntax errors occur during the parsing or compilation phase of the program when the code does not follow the correct syntax rules of the programming language.\n",
    "Syntax errors are detected by the Python interpreter before the program is executed, so they prevent the program from running.\n",
    "Examples of syntax errors include missing colons, unmatched parentheses, invalid variable names, or incorrect indentation.\n",
    "Syntax errors need to be fixed in the source code before the program can be executed."
   ]
  },
  {
   "cell_type": "markdown",
   "id": "508ae51a-4ab4-4a1f-84be-2d2a5ba889c2",
   "metadata": {},
   "source": [
    "#QUESTION 2\n",
    "When an exception is not handled in Python, it results in an unhandled exception error. This error message is displayed, and the program execution is terminated abruptly. "
   ]
  },
  {
   "cell_type": "code",
   "execution_count": 1,
   "id": "cfdb5d9f-67ac-46ae-9a78-3187f45b08bd",
   "metadata": {},
   "outputs": [
    {
     "ename": "ZeroDivisionError",
     "evalue": "division by zero",
     "output_type": "error",
     "traceback": [
      "\u001b[0;31m---------------------------------------------------------------------------\u001b[0m",
      "\u001b[0;31mZeroDivisionError\u001b[0m                         Traceback (most recent call last)",
      "Cell \u001b[0;32mIn[1], line 7\u001b[0m\n\u001b[1;32m      4\u001b[0m     \u001b[38;5;28;01mreturn\u001b[39;00m result\n\u001b[1;32m      6\u001b[0m \u001b[38;5;66;03m# Calling the function with invalid arguments\u001b[39;00m\n\u001b[0;32m----> 7\u001b[0m \u001b[43mdivide_numbers\u001b[49m\u001b[43m(\u001b[49m\u001b[38;5;241;43m10\u001b[39;49m\u001b[43m,\u001b[49m\u001b[43m \u001b[49m\u001b[38;5;241;43m0\u001b[39;49m\u001b[43m)\u001b[49m\n",
      "Cell \u001b[0;32mIn[1], line 3\u001b[0m, in \u001b[0;36mdivide_numbers\u001b[0;34m(a, b)\u001b[0m\n\u001b[1;32m      2\u001b[0m \u001b[38;5;28;01mdef\u001b[39;00m \u001b[38;5;21mdivide_numbers\u001b[39m(a, b):\n\u001b[0;32m----> 3\u001b[0m     result \u001b[38;5;241m=\u001b[39m \u001b[43ma\u001b[49m\u001b[43m \u001b[49m\u001b[38;5;241;43m/\u001b[39;49m\u001b[43m \u001b[49m\u001b[43mb\u001b[49m\n\u001b[1;32m      4\u001b[0m     \u001b[38;5;28;01mreturn\u001b[39;00m result\n",
      "\u001b[0;31mZeroDivisionError\u001b[0m: division by zero"
     ]
    }
   ],
   "source": [
    "#EXAMPLE\n",
    "def divide_numbers(a, b):\n",
    "    result = a / b\n",
    "    return result\n",
    "\n",
    "# Calling the function with invalid arguments\n",
    "divide_numbers(10, 0)\n"
   ]
  },
  {
   "cell_type": "markdown",
   "id": "a1943293-0c4b-49c5-97d3-6bcb000c9dd4",
   "metadata": {},
   "source": [
    "#QUESTION 4\n",
    "\n",
    "-The try block is used to enclose the code that might raise an exception.\n",
    "\n",
    "- If an exception occurs within the try block, it is caught by the appropriate except block.\n",
    "\n",
    "-If no exceptions occur, the code in the else block is executed.\n",
    "\n",
    "-If no exceptions occur, the code in the else block is executed.\n",
    "\n",
    "-In Python, the raise statement is used to explicitly raise an exception during the execution of a program. It allows you to generate and raise exceptions based on specific conditions or error scenarios that you define. The raise statement is typically used in conjunction with custom exceptions or built-in exception classes.\n"
   ]
  },
  {
   "cell_type": "code",
   "execution_count": 2,
   "id": "3675d836-f487-4890-9521-ad9fe942bb5f",
   "metadata": {},
   "outputs": [
    {
     "name": "stdout",
     "output_type": "stream",
     "text": [
      "The division result is: 2.0\n",
      "This block is always executed, regardless of exceptions.\n",
      "Error: Division by zero is not allowed.\n",
      "This block is always executed, regardless of exceptions.\n"
     ]
    }
   ],
   "source": [
    "#Example\n",
    "def divide_numbers(a, b):\n",
    "    try:\n",
    "        result = a / b\n",
    "    except ZeroDivisionError:\n",
    "        print(\"Error: Division by zero is not allowed.\")\n",
    "    else:\n",
    "        print(\"The division result is:\", result)\n",
    "    finally:\n",
    "        print(\"This block is always executed, regardless of exceptions.\")\n",
    "\n",
    "# Calling the function with valid arguments\n",
    "divide_numbers(10, 5)\n",
    "\n",
    "# Calling the function with invalid arguments\n",
    "divide_numbers(10, 0)\n"
   ]
  },
  {
   "cell_type": "markdown",
   "id": "4981c3e5-b393-47c2-bfc5-99bf9bd01bd0",
   "metadata": {},
   "source": [
    "# QUESTION 3\n",
    "\n",
    "Python statements that are used to catch and handle exceptions are TRY and EXCEPT ."
   ]
  },
  {
   "cell_type": "code",
   "execution_count": 3,
   "id": "84f8695e-119a-4632-9dc3-a3f2bacdd310",
   "metadata": {},
   "outputs": [
    {
     "name": "stdout",
     "output_type": "stream",
     "text": [
      "division by zero\n"
     ]
    }
   ],
   "source": [
    "#Example\n",
    "try:\n",
    "    10/0\n",
    "except ZeroDivisionError as e:\n",
    "    print(e)"
   ]
  },
  {
   "cell_type": "markdown",
   "id": "e789765d-0d56-4a8f-9551-4c20a52624e7",
   "metadata": {},
   "source": [
    "# QUESTION 5\n",
    "\n",
    "Custome Exceptions are user-defined exceptions. \n",
    "\n",
    "There are several reasons why we may need custom exceptions:\n",
    "\n",
    "-Enhanced error handling: Custom exceptions provide a way to differentiate between different types of errors in a program. By defining specific exception classes, you can capture and handle different error scenarios more precisely, making your code more robust and easier to maintain.\n",
    "\n",
    "-Clearer error messages: Custom exceptions allow you to define error messages that are specific to your program's domain or functionality. This helps in providing more meaningful error messages to users or developers, making it easier to understand and troubleshoot issues.\n",
    "\n"
   ]
  },
  {
   "cell_type": "code",
   "execution_count": 4,
   "id": "5c13fe38-c59d-4a5e-a89d-30f9c781d2a4",
   "metadata": {},
   "outputs": [
    {
     "name": "stdout",
     "output_type": "stream",
     "text": [
      "('Insufficient balance to withdraw amount:', 1000)\n"
     ]
    }
   ],
   "source": [
    "#Example\n",
    "class InsufficientBalanceError(Exception):\n",
    "    pass\n",
    "\n",
    "def withdraw(amount, balance):\n",
    "    if amount > balance:\n",
    "        raise InsufficientBalanceError(\"Insufficient balance to withdraw amount:\", amount)\n",
    "    else:\n",
    "        print(\"Withdrawal successful. Amount withdrawn:\", amount)\n",
    "\n",
    "# Using the custom exception in the program\n",
    "try:\n",
    "    withdraw(1000, 500)\n",
    "except InsufficientBalanceError as e:\n",
    "    print(e)\n"
   ]
  },
  {
   "cell_type": "code",
   "execution_count": 5,
   "id": "d04acc04-e8da-4503-8fe0-f37408d8fbc7",
   "metadata": {},
   "outputs": [
    {
     "name": "stdout",
     "output_type": "stream",
     "text": [
      "('Insufficient balance to withdraw amount:', 1000)\n"
     ]
    }
   ],
   "source": [
    "#Question 6\n",
    "class InsufficientBalanceError(Exception):\n",
    "    pass\n",
    "\n",
    "def withdraw(amount, balance):\n",
    "    if amount > balance:\n",
    "        raise InsufficientBalanceError(\"Insufficient balance to withdraw amount:\", amount)\n",
    "    else:\n",
    "        print(\"Withdrawal successful. Amount withdrawn:\", amount)\n",
    "\n",
    "# Using the custom exception in the program\n",
    "try:\n",
    "    withdraw(1000, 500)\n",
    "except InsufficientBalanceError as e:\n",
    "    print(e)\n"
   ]
  },
  {
   "cell_type": "code",
   "execution_count": null,
   "id": "3c349fae-7cbe-4935-a84a-68b138a3e956",
   "metadata": {},
   "outputs": [],
   "source": []
  }
 ],
 "metadata": {
  "kernelspec": {
   "display_name": "Python 3 (ipykernel)",
   "language": "python",
   "name": "python3"
  },
  "language_info": {
   "codemirror_mode": {
    "name": "ipython",
    "version": 3
   },
   "file_extension": ".py",
   "mimetype": "text/x-python",
   "name": "python",
   "nbconvert_exporter": "python",
   "pygments_lexer": "ipython3",
   "version": "3.10.8"
  }
 },
 "nbformat": 4,
 "nbformat_minor": 5
}
